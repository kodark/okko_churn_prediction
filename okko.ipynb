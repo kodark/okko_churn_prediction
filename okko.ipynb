{
 "cells": [
  {
   "cell_type": "markdown",
   "metadata": {},
   "source": [
    "# Прогнозирование оттока по данным [Rekko Challenge 2019](https://boosters.pro/championship/rekko_challenge/overview)"
   ]
  },
  {
   "cell_type": "code",
   "execution_count": 1,
   "metadata": {},
   "outputs": [],
   "source": [
    "import os\n",
    "import json\n",
    "import pandas as pd\n",
    "import numpy as np\n",
    "import tqdm\n",
    "import scipy.sparse as sp\n",
    "import matplotlib.pyplot as plt\n",
    "\n",
    "from pprint import pprint"
   ]
  },
  {
   "cell_type": "markdown",
   "metadata": {},
   "source": [
    "### Загрузка данных"
   ]
  },
  {
   "cell_type": "code",
   "execution_count": 2,
   "metadata": {},
   "outputs": [],
   "source": [
    "DATA_PATH = './data/'"
   ]
  },
  {
   "cell_type": "code",
   "execution_count": 3,
   "metadata": {},
   "outputs": [
    {
     "name": "stdout",
     "output_type": "stream",
     "text": [
      "CPU times: user 5.63 s, sys: 320 ms, total: 5.95 s\n",
      "Wall time: 6.08 s\n"
     ]
    }
   ],
   "source": [
    "%%time\n",
    "transactions = pd.read_csv(\n",
    "    os.path.join(DATA_PATH, 'transactions.csv'),\n",
    "    dtype={\n",
    "        'element_uid': np.uint16,\n",
    "        'user_uid': np.uint32,\n",
    "        'consumption_mode': 'category',\n",
    "        'ts': np.float64,\n",
    "        'watched_time': np.uint64,\n",
    "        'device_type': np.uint8,\n",
    "        'device_manufacturer': np.uint8\n",
    "    }\n",
    ")"
   ]
  },
  {
   "cell_type": "code",
   "execution_count": 4,
   "metadata": {},
   "outputs": [
    {
     "data": {
      "text/html": [
       "<div>\n",
       "<style scoped>\n",
       "    .dataframe tbody tr th:only-of-type {\n",
       "        vertical-align: middle;\n",
       "    }\n",
       "\n",
       "    .dataframe tbody tr th {\n",
       "        vertical-align: top;\n",
       "    }\n",
       "\n",
       "    .dataframe thead th {\n",
       "        text-align: right;\n",
       "    }\n",
       "</style>\n",
       "<table border=\"1\" class=\"dataframe\">\n",
       "  <thead>\n",
       "    <tr style=\"text-align: right;\">\n",
       "      <th></th>\n",
       "      <th>element_uid</th>\n",
       "      <th>user_uid</th>\n",
       "      <th>consumption_mode</th>\n",
       "      <th>ts</th>\n",
       "      <th>watched_time</th>\n",
       "      <th>device_type</th>\n",
       "      <th>device_manufacturer</th>\n",
       "    </tr>\n",
       "  </thead>\n",
       "  <tbody>\n",
       "    <tr>\n",
       "      <td>0</td>\n",
       "      <td>3336</td>\n",
       "      <td>5177</td>\n",
       "      <td>S</td>\n",
       "      <td>4.430518e+07</td>\n",
       "      <td>4282</td>\n",
       "      <td>0</td>\n",
       "      <td>50</td>\n",
       "    </tr>\n",
       "    <tr>\n",
       "      <td>1</td>\n",
       "      <td>481</td>\n",
       "      <td>593316</td>\n",
       "      <td>S</td>\n",
       "      <td>4.430518e+07</td>\n",
       "      <td>2989</td>\n",
       "      <td>0</td>\n",
       "      <td>11</td>\n",
       "    </tr>\n",
       "    <tr>\n",
       "      <td>2</td>\n",
       "      <td>4128</td>\n",
       "      <td>262355</td>\n",
       "      <td>S</td>\n",
       "      <td>4.430518e+07</td>\n",
       "      <td>833</td>\n",
       "      <td>0</td>\n",
       "      <td>50</td>\n",
       "    </tr>\n",
       "    <tr>\n",
       "      <td>3</td>\n",
       "      <td>6272</td>\n",
       "      <td>74296</td>\n",
       "      <td>S</td>\n",
       "      <td>4.430518e+07</td>\n",
       "      <td>2530</td>\n",
       "      <td>0</td>\n",
       "      <td>99</td>\n",
       "    </tr>\n",
       "    <tr>\n",
       "      <td>4</td>\n",
       "      <td>5543</td>\n",
       "      <td>340623</td>\n",
       "      <td>P</td>\n",
       "      <td>4.430518e+07</td>\n",
       "      <td>6282</td>\n",
       "      <td>0</td>\n",
       "      <td>50</td>\n",
       "    </tr>\n",
       "  </tbody>\n",
       "</table>\n",
       "</div>"
      ],
      "text/plain": [
       "   element_uid  user_uid consumption_mode            ts  watched_time  \\\n",
       "0         3336      5177                S  4.430518e+07          4282   \n",
       "1          481    593316                S  4.430518e+07          2989   \n",
       "2         4128    262355                S  4.430518e+07           833   \n",
       "3         6272     74296                S  4.430518e+07          2530   \n",
       "4         5543    340623                P  4.430518e+07          6282   \n",
       "\n",
       "   device_type  device_manufacturer  \n",
       "0            0                   50  \n",
       "1            0                   11  \n",
       "2            0                   50  \n",
       "3            0                   99  \n",
       "4            0                   50  "
      ]
     },
     "execution_count": 4,
     "metadata": {},
     "output_type": "execute_result"
    }
   ],
   "source": [
    "transactions.head()"
   ]
  },
  {
   "cell_type": "markdown",
   "metadata": {},
   "source": [
    " - `element_uid` — идентификатор элемента\n",
    " - `user_uid` — идентификатор пользователя\n",
    " - `consumption_mode` — тип потребления (`P` — покупка, `R` — аренда, `S` — просмотр по подписке)\n",
    " - `ts` — время совершения транзакции или начала просмотра в случае просмотра по подписке\n",
    " - `watched_time` — число просмотренных по транзакции секунд\n",
    " - `device_type` — анонимизированный тип устройства, с которого была совершена транзакция или начат просмотр\n",
    " - `device_manufacturer` — анонимизированный производитель устройства, с которого была совершена транзакция или начат просмотр"
   ]
  },
  {
   "cell_type": "code",
   "execution_count": 5,
   "metadata": {},
   "outputs": [
    {
     "name": "stdout",
     "output_type": "stream",
     "text": [
      "В transactions имеем 9643012 записей, 499663 пользователей и 8296 продуктов.\n"
     ]
    }
   ],
   "source": [
    "print(\"В transactions имеем %d записей, %d пользователей и %d продуктов.\" % (transactions.shape[0], \n",
    "                                                                            transactions.user_uid.nunique(), \n",
    "                                                                            transactions.element_uid.nunique()))\n"
   ]
  },
  {
   "cell_type": "markdown",
   "metadata": {},
   "source": [
    "### Кого считать ушедшим пользователем\n",
    "Для определения ушел пользователь или нет, подсчитаем сколько времени прошло между транзакциями каждого пользователя. На основе этих данных выберем такое время без транзакций, после которого считаем, что пользователь ушел."
   ]
  },
  {
   "cell_type": "code",
   "execution_count": 6,
   "metadata": {},
   "outputs": [],
   "source": [
    "df = transactions.copy()"
   ]
  },
  {
   "cell_type": "code",
   "execution_count": 7,
   "metadata": {},
   "outputs": [],
   "source": [
    "gaps = df[['user_uid', 'ts']].drop_duplicates() \\\n",
    "                             .groupby('user_uid')['ts'] \\\n",
    "                             .apply(list).apply(np.diff).values\n",
    "\n",
    "gaps = np.concatenate(gaps, axis=0)\n",
    "gaps = np.abs(gaps)\n",
    "\n",
    "day_gaps = gaps/(60*60*24)"
   ]
  },
  {
   "cell_type": "markdown",
   "metadata": {},
   "source": [
    "Для наглядности построим гистограмму:"
   ]
  },
  {
   "cell_type": "code",
   "execution_count": 8,
   "metadata": {},
   "outputs": [
    {
     "data": {
      "image/png": "[encoded data removed]",
      "text/plain": [
       "<Figure size 432x288 with 1 Axes>"
      ]
     },
     "metadata": {
      "needs_background": "light"
     },
     "output_type": "display_data"
    }
   ],
   "source": [
    "plt.hist(day_gaps, bins=20);"
   ]
  },
  {
   "cell_type": "markdown",
   "metadata": {},
   "source": [
    "На гистограмме видим, что интервал между транзакциями больше 14 дней практически не встречается."
   ]
  },
  {
   "cell_type": "code",
   "execution_count": 9,
   "metadata": {},
   "outputs": [
    {
     "data": {
      "text/plain": [
       "0.004676589416783513"
      ]
     },
     "execution_count": 9,
     "metadata": {},
     "output_type": "execute_result"
    }
   ],
   "source": [
    "np.sum(day_gaps > 14) / day_gaps.shape[0]"
   ]
  },
  {
   "cell_type": "markdown",
   "metadata": {},
   "source": [
    "Таким образом, выбрав период оттока в 14 дней, мы ошибемся не более, чем в 0.5% случаев.\n",
    "\n",
    "### Вычисление ушедший пользователей\n",
    "Сначала уберем из рассмотрения тех, кто впервые совершил транзакцию в последние две недели, т.к. для них невозможно определить ушли они или нет."
   ]
  },
  {
   "cell_type": "code",
   "execution_count": 10,
   "metadata": {},
   "outputs": [],
   "source": [
    "max_started_ts = df.ts.max() - 14*60*60*24\n",
    "\n",
    "df = df.merge(df.groupby('user_uid', as_index=False)[['ts']].min() \\\n",
    "              .rename({'ts': 'min_ts'}, axis=1), how='outer', on='user_uid')\n",
    "\n",
    "df = df[df.min_ts < max_started_ts]"
   ]
  },
  {
   "cell_type": "markdown",
   "metadata": {},
   "source": [
    "Будем считать ушедшим того, кто в последние две недели не совершил ни одной транзакции."
   ]
  },
  {
   "cell_type": "code",
   "execution_count": 11,
   "metadata": {},
   "outputs": [],
   "source": [
    "df = df.merge(df.groupby('user_uid', as_index=False)[['ts']].max() \\\n",
    "              .rename({'ts': 'max_ts'}, axis=1), how='outer', on='user_uid')\n",
    "\n",
    "df['churn'] = df.max_ts < max_started_ts\n",
    "df = df.drop(['min_ts', 'max_ts'], axis=1)"
   ]
  },
  {
   "cell_type": "code",
   "execution_count": 12,
   "metadata": {},
   "outputs": [
    {
     "data": {
      "text/html": [
       "<div>\n",
       "<style scoped>\n",
       "    .dataframe tbody tr th:only-of-type {\n",
       "        vertical-align: middle;\n",
       "    }\n",
       "\n",
       "    .dataframe tbody tr th {\n",
       "        vertical-align: top;\n",
       "    }\n",
       "\n",
       "    .dataframe thead th {\n",
       "        text-align: right;\n",
       "    }\n",
       "</style>\n",
       "<table border=\"1\" class=\"dataframe\">\n",
       "  <thead>\n",
       "    <tr style=\"text-align: right;\">\n",
       "      <th></th>\n",
       "      <th>element_uid</th>\n",
       "      <th>user_uid</th>\n",
       "      <th>consumption_mode</th>\n",
       "      <th>ts</th>\n",
       "      <th>watched_time</th>\n",
       "      <th>device_type</th>\n",
       "      <th>device_manufacturer</th>\n",
       "      <th>churn</th>\n",
       "    </tr>\n",
       "  </thead>\n",
       "  <tbody>\n",
       "    <tr>\n",
       "      <td>0</td>\n",
       "      <td>481</td>\n",
       "      <td>593316</td>\n",
       "      <td>S</td>\n",
       "      <td>4.430518e+07</td>\n",
       "      <td>2989</td>\n",
       "      <td>0</td>\n",
       "      <td>11</td>\n",
       "      <td>False</td>\n",
       "    </tr>\n",
       "    <tr>\n",
       "      <td>1</td>\n",
       "      <td>7681</td>\n",
       "      <td>593316</td>\n",
       "      <td>S</td>\n",
       "      <td>4.426540e+07</td>\n",
       "      <td>17997</td>\n",
       "      <td>0</td>\n",
       "      <td>50</td>\n",
       "      <td>False</td>\n",
       "    </tr>\n",
       "    <tr>\n",
       "      <td>2</td>\n",
       "      <td>5746</td>\n",
       "      <td>593316</td>\n",
       "      <td>P</td>\n",
       "      <td>4.426267e+07</td>\n",
       "      <td>115</td>\n",
       "      <td>0</td>\n",
       "      <td>50</td>\n",
       "      <td>False</td>\n",
       "    </tr>\n",
       "    <tr>\n",
       "      <td>3</td>\n",
       "      <td>230</td>\n",
       "      <td>593316</td>\n",
       "      <td>P</td>\n",
       "      <td>4.426183e+07</td>\n",
       "      <td>5552</td>\n",
       "      <td>0</td>\n",
       "      <td>11</td>\n",
       "      <td>False</td>\n",
       "    </tr>\n",
       "    <tr>\n",
       "      <td>4</td>\n",
       "      <td>3250</td>\n",
       "      <td>593316</td>\n",
       "      <td>S</td>\n",
       "      <td>4.417977e+07</td>\n",
       "      <td>2992</td>\n",
       "      <td>0</td>\n",
       "      <td>50</td>\n",
       "      <td>False</td>\n",
       "    </tr>\n",
       "    <tr>\n",
       "      <td>5</td>\n",
       "      <td>3213</td>\n",
       "      <td>593316</td>\n",
       "      <td>S</td>\n",
       "      <td>4.417702e+07</td>\n",
       "      <td>30819</td>\n",
       "      <td>0</td>\n",
       "      <td>11</td>\n",
       "      <td>False</td>\n",
       "    </tr>\n",
       "    <tr>\n",
       "      <td>6</td>\n",
       "      <td>8849</td>\n",
       "      <td>593316</td>\n",
       "      <td>S</td>\n",
       "      <td>4.415977e+07</td>\n",
       "      <td>5342</td>\n",
       "      <td>0</td>\n",
       "      <td>50</td>\n",
       "      <td>False</td>\n",
       "    </tr>\n",
       "    <tr>\n",
       "      <td>7</td>\n",
       "      <td>9520</td>\n",
       "      <td>593316</td>\n",
       "      <td>S</td>\n",
       "      <td>4.415975e+07</td>\n",
       "      <td>6</td>\n",
       "      <td>0</td>\n",
       "      <td>50</td>\n",
       "      <td>False</td>\n",
       "    </tr>\n",
       "    <tr>\n",
       "      <td>8</td>\n",
       "      <td>3960</td>\n",
       "      <td>593316</td>\n",
       "      <td>S</td>\n",
       "      <td>4.415968e+07</td>\n",
       "      <td>0</td>\n",
       "      <td>0</td>\n",
       "      <td>50</td>\n",
       "      <td>False</td>\n",
       "    </tr>\n",
       "    <tr>\n",
       "      <td>9</td>\n",
       "      <td>2657</td>\n",
       "      <td>593316</td>\n",
       "      <td>S</td>\n",
       "      <td>4.415949e+07</td>\n",
       "      <td>80</td>\n",
       "      <td>0</td>\n",
       "      <td>50</td>\n",
       "      <td>False</td>\n",
       "    </tr>\n",
       "  </tbody>\n",
       "</table>\n",
       "</div>"
      ],
      "text/plain": [
       "   element_uid  user_uid consumption_mode            ts  watched_time  \\\n",
       "0          481    593316                S  4.430518e+07          2989   \n",
       "1         7681    593316                S  4.426540e+07         17997   \n",
       "2         5746    593316                P  4.426267e+07           115   \n",
       "3          230    593316                P  4.426183e+07          5552   \n",
       "4         3250    593316                S  4.417977e+07          2992   \n",
       "5         3213    593316                S  4.417702e+07         30819   \n",
       "6         8849    593316                S  4.415977e+07          5342   \n",
       "7         9520    593316                S  4.415975e+07             6   \n",
       "8         3960    593316                S  4.415968e+07             0   \n",
       "9         2657    593316                S  4.415949e+07            80   \n",
       "\n",
       "   device_type  device_manufacturer  churn  \n",
       "0            0                   11  False  \n",
       "1            0                   50  False  \n",
       "2            0                   50  False  \n",
       "3            0                   11  False  \n",
       "4            0                   50  False  \n",
       "5            0                   11  False  \n",
       "6            0                   50  False  \n",
       "7            0                   50  False  \n",
       "8            0                   50  False  \n",
       "9            0                   50  False  "
      ]
     },
     "execution_count": 12,
     "metadata": {},
     "output_type": "execute_result"
    }
   ],
   "source": [
    "df.head(10)"
   ]
  },
  {
   "cell_type": "markdown",
   "metadata": {},
   "source": [
    "### Первичный анализ ушедших пользователей\n",
    "Для начала посчитаем соотношение ушедших и оставшихся пользователей:"
   ]
  },
  {
   "cell_type": "code",
   "execution_count": 13,
   "metadata": {},
   "outputs": [
    {
     "data": {
      "text/plain": [
       "False    0.678751\n",
       "True     0.321249\n",
       "Name: churn, dtype: float64"
      ]
     },
     "execution_count": 13,
     "metadata": {},
     "output_type": "execute_result"
    }
   ],
   "source": [
    "df.groupby('user_uid')['churn'].first().value_counts(normalize=True)"
   ]
  },
  {
   "cell_type": "markdown",
   "metadata": {},
   "source": [
    "Посмотрим на количество покупок, аренд и просмотров по подписке у ушедших и оставшихся пользователей:"
   ]
  },
  {
   "cell_type": "code",
   "execution_count": 14,
   "metadata": {},
   "outputs": [],
   "source": [
    "mean_consumptions_churned = pd.DataFrame(df[df['churn']].groupby('user_uid')['consumption_mode'].value_counts())\n",
    "\n",
    "mean_consumptions_churned = mean_consumptions_churned.groupby(level=1).mean() \\\n",
    "                                                     .rename({'consumption_mode': 'mean_churned'}, axis=1)\n",
    "\n",
    "mean_consumptions_unchurned = pd.DataFrame(df[df['churn'] == False].groupby('user_uid')['consumption_mode'].value_counts())\n",
    "\n",
    "mean_consumptions_unchurned = mean_consumptions_unchurned.groupby(level=1).mean() \\\n",
    "                                                         .rename({'consumption_mode': 'mean_unchurned'}, axis=1)\n",
    "\n",
    "mean_consumptions = mean_consumptions_churned.merge(mean_consumptions_unchurned, on='consumption_mode')"
   ]
  },
  {
   "cell_type": "code",
   "execution_count": 15,
   "metadata": {},
   "outputs": [
    {
     "data": {
      "text/html": [
       "<div>\n",
       "<style scoped>\n",
       "    .dataframe tbody tr th:only-of-type {\n",
       "        vertical-align: middle;\n",
       "    }\n",
       "\n",
       "    .dataframe tbody tr th {\n",
       "        vertical-align: top;\n",
       "    }\n",
       "\n",
       "    .dataframe thead th {\n",
       "        text-align: right;\n",
       "    }\n",
       "</style>\n",
       "<table border=\"1\" class=\"dataframe\">\n",
       "  <thead>\n",
       "    <tr style=\"text-align: right;\">\n",
       "      <th></th>\n",
       "      <th>mean_churned</th>\n",
       "      <th>mean_unchurned</th>\n",
       "    </tr>\n",
       "    <tr>\n",
       "      <th>consumption_mode</th>\n",
       "      <th></th>\n",
       "      <th></th>\n",
       "    </tr>\n",
       "  </thead>\n",
       "  <tbody>\n",
       "    <tr>\n",
       "      <td>P</td>\n",
       "      <td>1.778279</td>\n",
       "      <td>5.763950</td>\n",
       "    </tr>\n",
       "    <tr>\n",
       "      <td>R</td>\n",
       "      <td>1.989368</td>\n",
       "      <td>4.192542</td>\n",
       "    </tr>\n",
       "    <tr>\n",
       "      <td>S</td>\n",
       "      <td>8.701727</td>\n",
       "      <td>25.729539</td>\n",
       "    </tr>\n",
       "  </tbody>\n",
       "</table>\n",
       "</div>"
      ],
      "text/plain": [
       "                  mean_churned  mean_unchurned\n",
       "consumption_mode                              \n",
       "P                     1.778279        5.763950\n",
       "R                     1.989368        4.192542\n",
       "S                     8.701727       25.729539"
      ]
     },
     "execution_count": 15,
     "metadata": {},
     "output_type": "execute_result"
    }
   ],
   "source": [
    "mean_consumptions"
   ]
  },
  {
   "cell_type": "markdown",
   "metadata": {},
   "source": [
    "Таким образом, можно сделать некоторые выводы о стоимости удержания пользователя: \n",
    "1) если бы пользователь не ушел, то он в этом месяце в среднем купил бы еще 3,98 фильма и арендовал — 2,2 (в предположении, что эти неушедшие пользователи будут вести себя, как лояльные, что не всегда правда)\n",
    "2) если бы пользователь не ушел, то он покупал бы 1.78 ежемесячно в среднем и арендовал — 1.99."
   ]
  },
  {
   "cell_type": "code",
   "execution_count": null,
   "metadata": {},
   "outputs": [],
   "source": []
  }
 ],
 "metadata": {
  "hide_input": false,
  "kernelspec": {
   "display_name": "Python 3",
   "language": "python",
   "name": "python3"
  },
  "language_info": {
   "codemirror_mode": {
    "name": "ipython",
    "version": 3
   },
   "file_extension": ".py",
   "mimetype": "text/x-python",
   "name": "python",
   "nbconvert_exporter": "python",
   "pygments_lexer": "ipython3",
   "version": "3.7.4"
  }
 },
 "nbformat": 4,
 "nbformat_minor": 2
}
